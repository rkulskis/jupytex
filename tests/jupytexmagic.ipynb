{
 "cells": [
  {
   "cell_type": "code",
   "execution_count": 1,
   "id": "54cd6b6c-eee2-4c87-99e3-9e95937d48ed",
   "metadata": {
    "tags": []
   },
   "outputs": [
    {
     "name": "stdout",
     "output_type": "stream",
     "text": [
      "Requirement already satisfied: jupytexmagic in /Users/rkulskis/miniconda3/lib/python3.10/site-packages (0.1.0)\n",
      "Note: you may need to restart the kernel to use updated packages.\n"
     ]
    }
   ],
   "source": [
    "pip install jupytexmagic"
   ]
  },
  {
   "cell_type": "code",
   "execution_count": 2,
   "id": "3009cc3e-172f-4527-b78e-31fda44b44a0",
   "metadata": {
    "tags": []
   },
   "outputs": [],
   "source": [
    "import jupytexmagic\n",
    "%load_ext jupytexmagic"
   ]
  },
  {
   "cell_type": "code",
   "execution_count": null,
   "id": "c1ea4678-b6a3-4018-ac40-e918b9f6dcc9",
   "metadata": {
    "tags": []
   },
   "outputs": [],
   "source": []
  },
  {
   "cell_type": "code",
   "execution_count": null,
   "id": "198e3ec1-e81a-4b43-a225-c91a3ea55f5a",
   "metadata": {
    "tags": []
   },
   "outputs": [],
   "source": [
    "%%tex\n",
    "\\documentclass{article}\n",
    "\\pagenumbering{gobble}\n",
    "\\usepackage{amsmath}\n",
    "\\usepackage{amsfonts}\n",
    "\\usepackage{amssymb}\n",
    "\\usepackage{blkarray}\n",
    "\\usepackage{mathtools}\n",
    "\\usepackage{graphicx}\n",
    "\\usepackage{siunitx}[=v2]\n",
    "\\usepackage{physics}\n",
    "\\usepackage[dvipsnames]{xcolor}\n",
    "\\usepackage{caption}\n",
    "\\usepackage{float}\n",
    "\\usepackage{pgfplots}\n",
    "\\usepackage{enumitem}\n",
    "\\usepackage[ruled,vlined,linesnumbered]{algorithm2e}\n",
    "\\pgfplotsset{compat=1.18}\n",
    "\\usepackage[inkscapelatex=false]{svg}\n",
    "\\DeclarePairedDelimiter{\\ceil}{\\lceil}{\\rceil}\n",
    "\\DeclarePairedDelimiter{\\floor}{\\lfloor}{\\rfloor}\n",
    "\\DeclareMathOperator*{\\argmax}{arg\\,max}\n",
    "\\DeclareMathOperator*{\\argmin}{arg\\,min}\n",
    "\\newcommand{\\df}[3]{\\textcolor{NavyBlue}{\\textbf{#1}}}\n",
    "\\SetKwComment{Comment}{/* }{*/}\n",
    "\\newcommand{\\com}[1]{\\textcolor{blue}{\\Comment{#1}}}\n",
    "\\begin{document}\n",
    "\\nopagecolor\n",
    "\\begin{figure}[H]\n",
    "\\centering\n",
    "\\begin{tikzpicture}\n",
    "\\begin{axis}%\n",
    "[\n",
    "    grid=major,     \n",
    "    xmin=-6,\n",
    "    xmax=6,\n",
    "    axis x line=middle,\n",
    "    ymin=-6,\n",
    "    ymax=6,\n",
    "    axis y line=middle,\n",
    "    samples=100,\n",
    "    domain=-6:6,\n",
    "    legend style={at={(0.3,0.98)}} \n",
    "]\n",
    "    \\addplot+[mark=none,Cerulean,ultra thick] {sin(deg(x))};\n",
    "    \\addplot+[mark=none,YellowOrange,very thick] {x};\n",
    "    \\addplot+[mark=none,brown,very thick] {x-(x^3)/6};\n",
    "    \\addplot+[mark=none,SkyBlue,very thick] {x-(x^3)/6+(x^5)/120};\n",
    "    %\\addplot+[mark=none,magenta,very thick] {x-(x^3)/6+(x^5)/120-(x^7)/5040};\n",
    "    \\legend{$\\sin(x)$,$T_1(x)$,$T_3(x)$,$T_5(x)$}\n",
    "\\end{axis}\n",
    "\\end{tikzpicture}\n",
    "\\caption{\\label{fig:taylor series graph} Taylor expansion of \\textcolor{Cerulean}{$\\sin x$ in cyan} by polynomials of degree \\textcolor{YellowOrange}{1 in orange}, \\textcolor{brown}{3 in brown}, and \\textcolor{SkyBlue}{5 in teal}. Notice how as we stray further from $x=a=0$, the approximation becomes less accurate.}\n",
    "\\end{figure} \n",
    "As $n$ approaches infinity, the inaccuracies in our Taylor approximation $T(x)$ iron out and the series approaches $f(x)$ across the whole range of our domain $x\\in(-\\infty,\\infty)$.\n",
    "\n",
    "Your brain's network of neurons works in a similar way. Each neuron has a non-linear component $g$, and as an activation stimulus \\df{propagates}{propagate}{a fancy word for spreads. (e.g. activations propagate throughout a neural network)} (a fancy word for spreads) throughout the network it gets mushed and stretched by each neuron's non-linear component to approximate some mapping of stimuli inputs to desired outputs. \n",
    "\n",
    "The resulting data at the end is one that is linearly separable because we have created a non-linear decision boundary. For example in binary classification if we have generated the non-linear decision boundary $d(x)$, our last layer of the network outputs a \\df{linear classifier}{}{DC} $l(x)$ which determines whether a point is below our decision boundary or above (see equation \\eqref{eq:linear classifier}{}). %DC\n",
    "\n",
    "\\begin{equation}\\label{eq:linear classifier}\n",
    "l(x)=\n",
    "\\begin{cases}\n",
    "    1 & \\text{if $x\\ge d(x)$} \\\\\n",
    "    0 & \\text{if $x<d(x)$}\n",
    "\\end{cases}\n",
    "\\end{equation}\n",
    "    \n",
    "\\begin{algorithm}[H]\n",
    "    \\caption{\\label{fig:laundry algo} FoldLaundry($basket$)}\n",
    "    \\com{$basket$ is the set of clothes in our laundry basket. For the sake of simplicity, assume we only have pants and shirts in our basket.}\n",
    "    $foldedShirts\\leftarrow \\{\\}$ \\com{empty set}\n",
    "    $foldedPants\\leftarrow \\{\\}$\\\\\n",
    "    \\While{basket.isEmpty() == false}{\n",
    "        $item\\leftarrow basket.getItem()$ \\com{get article of clothing}\n",
    "        \\If{item == Shirt}{\n",
    "            folded = foldShirt($item$) \\com{call algorithm foldShirt()}\n",
    "            $foldedShirts\\cup\\{folded\\}$ \\com{add to set of folded shirts}\n",
    "        } \\Else {\n",
    "            folded = foldPants($item$) \\com{if not shirt, then pants}\n",
    "            $foldedPants\\cup\\{folded\\}$\n",
    "        }\n",
    "    }\n",
    "    \\KwOut{$foldedShirts$, $foldedPants$}\n",
    "\\end{algorithm}\n",
    "\n",
    "\\end{document}"
   ]
  },
  {
   "cell_type": "code",
   "execution_count": null,
   "id": "50ad9d05-328a-4d54-a171-f472ba74a692",
   "metadata": {},
   "outputs": [],
   "source": []
  }
 ],
 "metadata": {
  "kernelspec": {
   "display_name": "Python 3 (ipykernel)",
   "language": "python",
   "name": "python3"
  },
  "language_info": {
   "codemirror_mode": {
    "name": "ipython",
    "version": 3
   },
   "file_extension": ".py",
   "mimetype": "text/x-python",
   "name": "python",
   "nbconvert_exporter": "python",
   "pygments_lexer": "ipython3",
   "version": "3.10.13"
  }
 },
 "nbformat": 4,
 "nbformat_minor": 5
}
